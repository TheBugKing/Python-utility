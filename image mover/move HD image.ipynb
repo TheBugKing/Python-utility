{
 "cells": [
  {
   "cell_type": "code",
   "execution_count": null,
   "metadata": {},
   "outputs": [],
   "source": [
    "from PIL import Image\n",
    "import os\n",
    "import shutil\n"
   ]
  },
  {
   "cell_type": "markdown",
   "metadata": {},
   "source": [
    "1024×576, 1152×648, 1280×720 (HD), 1366×768, 1600×900, 1920×1080 (FHD), 2560×1440 (QHD), 3840×2160 (4K), and 7680 x 4320 (8K)"
   ]
  },
  {
   "cell_type": "code",
   "execution_count": null,
   "metadata": {},
   "outputs": [],
   "source": [
    "# helper fuction\n",
    "\n",
    "def read_imgres(filename):\n",
    "    try:\n",
    "        im = Image.open(filename)\n",
    "        width, height = im.size\n",
    "        res = {\"width\":width,\"height\": height}\n",
    "        return res\n",
    "    except OSError as e:\n",
    "        print(e)\n",
    "        with open(source +\"\\picture.log\", \"a+\") as f:\n",
    "            f.write(str(e))\n",
    "            res ={\"width\": 0,\"height\": 0 }\n",
    "            return res \n",
    "    \n",
    "    "
   ]
  },
  {
   "cell_type": "code",
   "execution_count": null,
   "metadata": {},
   "outputs": [],
   "source": [
    "\n",
    "# helper fuction\n",
    "\n",
    "def move_img(filename, source , destination ):\n",
    "    \"\"\"fuction to move one image from soruce to destination folder \"\"\"\n",
    "    \n",
    "    image_path = source + filename\n",
    "    destination = destination + filename\n",
    "    \n",
    "#     define your resulutions here\n",
    "    HD_res =\"1024×576,1152×648,1280×720,1366×768,1600×900,1920×1080,2560×1440,3840×2160,7680×4320,4896×3264\".split(\",\")\n",
    "    \n",
    "    HD_res = [ i.split(\"×\") for i in HD_res]\n",
    "    \n",
    "#     getting a separate list for width and height of images from the resolution list\n",
    "    W,H =[ int(w[0].strip()) for w in HD_res], [ int(h[1].strip()) for h in HD_res]\n",
    "    \n",
    "#     log file\n",
    "    with open(source +\"\\picture.log\", \"a+\") as f:\n",
    "\n",
    "        if os.path.isfile(image_path):\n",
    "\n",
    "            f.write(\"\\n image_path / file exists : \\t{}\".format(True))\n",
    "            f.write(\"\\n reading image resolution function call read_imgres() \")\n",
    "\n",
    "#             calling img_res to get rsolution o fthe images\n",
    "            img_res = read_imgres(filename)\n",
    "\n",
    "            f.write(\"\\n resolution for image: {} is {}\\t\".format(filename, img_res))\n",
    "        \n",
    "        \n",
    "# check if image is high resolution\n",
    "            if img_res[\"width\"] in W and img_res[\"height\"] in H:\n",
    "                \n",
    "                f.write(\"\\n\\n moving... {} from {} to {}\".format(filename,source,destination))\n",
    "                shutil.move(image_path,destination)\n",
    "                f.write(\"\\n\\nmoving {} ...completed...\\t \".format(filename))\n",
    "                f.write(\"\\n\\n---------\")\n",
    "        else:\n",
    "            f.write(\"\\nFile does not exist in the destination\")"
   ]
  },
  {
   "cell_type": "code",
   "execution_count": null,
   "metadata": {},
   "outputs": [],
   "source": [
    "# caller fucntion\n",
    "\n",
    "def Master(source,destination):\n",
    "    os.chdir(source)\n",
    "    with open(source +\"\\picture.log\", \"w+\") as f: \n",
    "        f.write(\"directory changed to:\\t\"+ str(os.getcwd()))\n",
    "        i=0\n",
    "\n",
    "        for c in os.listdir():\n",
    "            if os.path.isdir(c):\n",
    "                i=i+1   \n",
    "        f.write(\"\\n \\ntotal folders found :\\t{}\".format(i))\n",
    "        f.write(\"\\n\\n total files in source directory '{}' found :\\t {}\".format(source,i))\n",
    "        \n",
    "        if len(os.listdir()) -1 == i :\n",
    "            f.write(\"\\n \\nWARNING !!! :\\t No images found in {} \".format(source))\n",
    "            f.write(\"\\n------------------------------------------------------------------------------------------------\")\n",
    "        else:\n",
    "            for filename in os.listdir():\n",
    "                if os.path.isdir(filename):\n",
    "                    continue\n",
    "                else:\n",
    "                    \n",
    "                    move_img(filename, source , destination)\n"
   ]
  },
  {
   "cell_type": "code",
   "execution_count": null,
   "metadata": {},
   "outputs": [],
   "source": [
    "#caller\n",
    "# provide your path here\n",
    "\n",
    "source=\"E:\\\\WallpapersHD\\\\\"\n",
    "destination = \"E:\\\\WallpapersHD\\\\HD RES\\\\\"\n",
    "\n",
    "Master(source,destination)"
   ]
  },
  {
   "cell_type": "code",
   "execution_count": null,
   "metadata": {},
   "outputs": [],
   "source": []
  },
  {
   "cell_type": "code",
   "execution_count": null,
   "metadata": {},
   "outputs": [],
   "source": []
  }
 ],
 "metadata": {
  "kernelspec": {
   "display_name": "Python 3",
   "language": "python",
   "name": "python3"
  },
  "language_info": {
   "codemirror_mode": {
    "name": "ipython",
    "version": 3
   },
   "file_extension": ".py",
   "mimetype": "text/x-python",
   "name": "python",
   "nbconvert_exporter": "python",
   "pygments_lexer": "ipython3",
   "version": "3.8.5"
  }
 },
 "nbformat": 4,
 "nbformat_minor": 2
}
